{
 "cells": [
  {
   "cell_type": "markdown",
   "metadata": {},
   "source": [
    "## Darwin Weasel Program\n",
    "\n",
    "Cummulative selection steps on natural evolution.\n"
   ]
  },
  {
   "cell_type": "code",
   "execution_count": 8,
   "metadata": {},
   "outputs": [],
   "source": [
    "import random"
   ]
  },
  {
   "cell_type": "code",
   "execution_count": 29,
   "metadata": {},
   "outputs": [
    {
     "data": {
      "text/plain": [
       "['W', ' ', 'T', 'M', 'K', 'L', 'N', 'E', 'S', 'I', 'A', 'H']"
      ]
     },
     "execution_count": 29,
     "metadata": {},
     "output_type": "execute_result"
    }
   ],
   "source": [
    "GOAL = \"METHINKS IT IS LIKE A WEASEL\"\n",
    "\n",
    "UNIQUE_CHARS = list(set(GOAL))\n",
    "\n",
    "UNIQUE_CHARS"
   ]
  },
  {
   "cell_type": "code",
   "execution_count": 23,
   "metadata": {},
   "outputs": [
    {
     "name": "stdout",
     "output_type": "stream",
     "text": [
      "ESSISHASAKNIHELNKSIESKKS MAW Score:  0.04\n"
     ]
    }
   ],
   "source": [
    "def score(sentence: list) -> float:\n",
    "    result = [c1 == c2 for c1, c2 in zip(GOAL, sentence)]\n",
    "    return round(sum(result) / len(GOAL), 2)\n",
    "\n",
    "start = [random.choice(UNIQUE_CHARS) for _ in range(len(GOAL))]\n",
    "\n",
    "print(\"\".join(start), \"Score: \", score(start))"
   ]
  },
  {
   "cell_type": "code",
   "execution_count": 24,
   "metadata": {},
   "outputs": [
    {
     "name": "stdout",
     "output_type": "stream",
     "text": [
      "ESSISHASAKNIHELNKSIESKKS MAW Score:  0.04\n"
     ]
    }
   ],
   "source": [
    "MUTATION_PROBABILITY = 0.05\n",
    "\n",
    "\n",
    "def mutate_gen(char: str) -> str:\n",
    "    if random.uniform(0, 1) < MUTATION_PROBABILITY:\n",
    "        return random.choice(UNIQUE_CHARS)\n",
    "    \n",
    "    return char\n",
    "\n",
    "\n",
    "def mutate(sentece: list) -> list:\n",
    "    return [mutate_gen(c) for c in sentece]\n",
    "\n",
    "\n",
    "child = mutate(start)\n",
    "print(\"\".join(child), \"Score: \", score(child))\n"
   ]
  },
  {
   "cell_type": "code",
   "execution_count": 36,
   "metadata": {},
   "outputs": [
    {
     "name": "stdout",
     "output_type": "stream",
     "text": [
      "0: ESSISHASAKNIHELNKSIESKKS MAW -- score: 0.04\n",
      "1: ESTIIHASAKNIKELNKSIESKKI MAW -- score: 0.11\n",
      "2: MSTIIHASAINIKELNKSIESKKI MAW -- score: 0.18\n",
      "3: MSTIISASAINIKELNKSIES KI MAL -- score: 0.25\n",
      "4: MSTIISASAINIKELNESIEA WI MAL -- score: 0.32\n",
      "5: MSTIINKSAINIKELNESIEA WI MAL -- score: 0.39\n",
      "6: MSTIINKSAINIKE NESIEA WI SAL -- score: 0.46\n",
      "7: MSTIINKSAITIKE WESIEA WI SEL -- score: 0.54\n",
      "8: MSTIINKSAITIKE WESI A WI SEL -- score: 0.57\n",
      "9: MSTIINKSAITIEE WWKI A WI SEL -- score: 0.61\n",
      "10: MSTIINKSAITIEE WIKI A WIASEL -- score: 0.68\n",
      "11: MSTHINKSAITIEE WIKE A WIASEL -- score: 0.75\n",
      "12: MSTHINKSAITIEE WIKE A WEASEL -- score: 0.79\n",
      "13: MSTHINKSAITIEE LIKE A WEASEL -- score: 0.82\n",
      "14: METHINKSAITIEE LIKE A WEASEL -- score: 0.86\n",
      "15: METHINKSAITIIE LIKE A WEASEL -- score: 0.89\n",
      "16: METHINKSAITIIE LIKE A WEASEL -- score: 0.89\n",
      "17: METHINKSAITIIS LIKE A WEASEL -- score: 0.93\n",
      "18: METHINKSAIT IS LIKE A WEASEL -- score: 0.96\n",
      "19: METHINKS IT IS LIKE A WEASEL -- score: 1.0\n"
     ]
    }
   ],
   "source": [
    "CHILDREN_PER_GENERATION = 1000\n",
    "\n",
    "parent = start\n",
    "new_parent = parent\n",
    "\n",
    "max_result = score(parent)\n",
    "\n",
    "i = 0\n",
    "\n",
    "while (1 - max_result) > .001:\n",
    "\n",
    "    print(f\"{i}: {''.join(parent)} -- score: {score(parent)}\")\n",
    "    \n",
    "    for _ in range(CHILDREN_PER_GENERATION):\n",
    "        child = mutate(parent)\n",
    "\n",
    "        if score(child) > max_result:\n",
    "            new_parent = child\n",
    "            max_result = score(child)\n",
    "    \n",
    "    parent = new_parent\n",
    "    i += 1\n",
    "\n",
    "print(f\"{i}: {''.join(parent)} -- score: {score(parent)}\")\n",
    "\n",
    "\n"
   ]
  }
 ],
 "metadata": {
  "kernelspec": {
   "display_name": "Python 3",
   "language": "python",
   "name": "python3"
  },
  "language_info": {
   "codemirror_mode": {
    "name": "ipython",
    "version": 3
   },
   "file_extension": ".py",
   "mimetype": "text/x-python",
   "name": "python",
   "nbconvert_exporter": "python",
   "pygments_lexer": "ipython3",
   "version": "3.10.11"
  }
 },
 "nbformat": 4,
 "nbformat_minor": 2
}
