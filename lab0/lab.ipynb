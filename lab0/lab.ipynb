{
 "cells": [
  {
   "cell_type": "code",
   "execution_count": 1,
   "metadata": {},
   "outputs": [],
   "source": [
    "def repr_expression(expression):\n",
    "    result = []\n",
    "    _repr(expression, result)\n",
    "    print(\" \".join(result))\n",
    "\n",
    "\n",
    "def _repr(expression, result):\n",
    "    if isinstance(expression, (tuple, list)):\n",
    "        result.append(\"(\")\n",
    "        _repr(expression[1], result)\n",
    "        result.append(expression[0])\n",
    "        _repr(expression[2], result)\n",
    "        result.append(\")\")\n",
    "    else:\n",
    "        result.append(expression if isinstance(expression, str) else str(expression))"
   ]
  },
  {
   "cell_type": "code",
   "execution_count": 2,
   "metadata": {},
   "outputs": [
    {
     "name": "stdout",
     "output_type": "stream",
     "text": [
      "( 2 * ( ( x + 1 ) * ( y + 3 ) ) )\n"
     ]
    }
   ],
   "source": [
    "expression = [\"*\", \"2\", [\"*\", [\"+\", \"x\", \"1\"], [\"+\", \"y\", \"3\"]]]\n",
    "\n",
    "repr_expression(expression)"
   ]
  },
  {
   "cell_type": "code",
   "execution_count": 4,
   "metadata": {},
   "outputs": [
    {
     "name": "stdout",
     "output_type": "stream",
     "text": [
      "( 2 * ( ( ( x * y ) + ( x * 3 ) ) + ( ( 1 * y ) + ( 1 * 3 ) ) ) )\n"
     ]
    }
   ],
   "source": [
    "def simplify(expression):\n",
    "\n",
    "    if not isinstance(expression, list):\n",
    "        return \n",
    "    \n",
    "    if not expression[0] == \"*\":\n",
    "        return\n",
    "    \n",
    "    left_child = expression[1]\n",
    "    right_child = expression[2]\n",
    "\n",
    "    if isinstance(left_child, list) and left_child[0] == \"+\":\n",
    "        expression[0] = \"+\"\n",
    "        expression[1] = [\"*\", left_child[1], right_child]\n",
    "        expression[2] = [\"*\", left_child[2], right_child]\n",
    "\n",
    "    elif isinstance(right_child, list) and right_child[0] == \"+\":\n",
    "        expression[0] = \"+\"\n",
    "        expression[1] = [\"*\", left_child, right_child[1]]\n",
    "        expression[2] = [\"*\", left_child, right_child[2]]\n",
    "    \n",
    "    simplify(expression[1])\n",
    "    simplify(expression[2])\n",
    "\n",
    "\n",
    "\n",
    "\n",
    "simplify(expression)\n",
    "\n",
    "repr_expression(expression)"
   ]
  }
 ],
 "metadata": {
  "kernelspec": {
   "display_name": "Python 3",
   "language": "python",
   "name": "python3"
  },
  "language_info": {
   "codemirror_mode": {
    "name": "ipython",
    "version": 3
   },
   "file_extension": ".py",
   "mimetype": "text/x-python",
   "name": "python",
   "nbconvert_exporter": "python",
   "pygments_lexer": "ipython3",
   "version": "3.10.11"
  }
 },
 "nbformat": 4,
 "nbformat_minor": 2
}
