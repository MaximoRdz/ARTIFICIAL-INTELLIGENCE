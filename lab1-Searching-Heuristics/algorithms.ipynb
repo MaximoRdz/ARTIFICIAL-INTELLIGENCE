{
 "cells": [
  {
   "cell_type": "markdown",
   "metadata": {},
   "source": [
    "# Notebook On Graphs, Searching Algorithms and Exercises"
   ]
  },
  {
   "cell_type": "code",
   "execution_count": 14,
   "metadata": {},
   "outputs": [
    {
     "data": {
      "text/plain": [
       "0"
      ]
     },
     "execution_count": 14,
     "metadata": {},
     "output_type": "execute_result"
    }
   ],
   "source": [
    "class Edge:\n",
    "    def __init__(self, name, node1, node2, weight=None):\n",
    "        self.name = name\n",
    "        self.node1 = node1\n",
    "        self.node2 = node2\n",
    "        self.weight = weight\n",
    "    \n",
    "\n",
    "class Graph:\n",
    "    \"\"\"\n",
    "    Weighted Graph data structure implemented using python dicts\n",
    "    and tuples. Heuristic information about the distance from any\n",
    "    node to the target node is also implemented using a dict.\n",
    "\n",
    "    edges: list of egdes (class Edge) that form the graph\n",
    "    heuristic: dict {Goal: {node1: int, node2: int, ...}}\n",
    "    \"\"\"\n",
    "\n",
    "    def __init__(self, edges=None, heuristic=None):\n",
    "        \n",
    "        self.edges = edges\n",
    "        if not edges:\n",
    "            self.edges = []\n",
    "\n",
    "\n",
    "        self.heuristic = heuristic\n",
    "        if not heuristic:\n",
    "            self.heuristic = {}\n",
    "\n",
    "        self.nodes = self.__get_nodes()\n",
    "    \n",
    "    def __get_nodes(self):\n",
    "        nodes = set()\n",
    "        nodes.update([edge.node1 for edge in self.edges])\n",
    "        nodes.update([edge.node2 for edge in self.edges])\n",
    "        return list(nodes)\n",
    "    \n",
    "    def get_connected_nodes(self, node):\n",
    "        assert node in self.nodes, \"Node Not Found in Graph\"\n",
    "        nodes = set()\n",
    "        nodes.update(edge.node2 for edge in self.edges if edge.node1 == node)\n",
    "        nodes.update(edge.node1 for edge in self.edges if edge.node2 == node)\n",
    "        return sorted(list(nodes))\n",
    "\n",
    "    def get_edge(self, node1, node2):\n",
    "        assert node1 in self.nodes, f\"{node1} Not Found in Graph\"\n",
    "        assert node2 in self.nodes, f\"{node2} Not Found in Graph\"\n",
    "\n",
    "        nodes = set([node1, node2])\n",
    "        for edge in self.edges:\n",
    "            edge_nodes = set([edge.node1, edge.node2])\n",
    "            if len(edge_nodes.intersection(nodes)) == 2:\n",
    "                return edge\n",
    "\n",
    "        return None\n",
    "    \n",
    "    def are_connected(self, node1, node2):\n",
    "        return bool(self.get_edge(node1, node2))\n",
    "\n",
    "    def get_heuristic(self, start, end):\n",
    "        assert start in self.nodes, f\"{start} Not Found in Graph\"\n",
    "        assert end in self.nodes, f\"{end} Not Found in Graph\"\n",
    "\n",
    "        if start in self.heuristic and end in self.heuristic[start]:\n",
    "            return self.heuristic[start][end]\n",
    "        elif end in self.heuristic and start in self.heuristic[end]:\n",
    "            return self.heuristic[end][start]\n",
    "        else:\n",
    "            return 0\n",
    "\n",
    "\n",
    "edges = [\n",
    "    Edge(\"e1\", \"A\", \"B\", 5),\n",
    "    Edge(\"e2\", \"A\", \"C\", 2),\n",
    "    Edge(\"e3\", \"D\", \"B\", 3),\n",
    "    ]\n",
    "\n",
    "graph_instance = Graph(edges)\n",
    "\n",
    "graph_instance.get_heuristic(\"A\", \"D\")"
   ]
  }
 ],
 "metadata": {
  "kernelspec": {
   "display_name": "Python 3",
   "language": "python",
   "name": "python3"
  },
  "language_info": {
   "codemirror_mode": {
    "name": "ipython",
    "version": 3
   },
   "file_extension": ".py",
   "mimetype": "text/x-python",
   "name": "python",
   "nbconvert_exporter": "python",
   "pygments_lexer": "ipython3",
   "version": "3.10.11"
  }
 },
 "nbformat": 4,
 "nbformat_minor": 2
}
