{
 "cells": [
  {
   "cell_type": "code",
   "execution_count": 9,
   "metadata": {},
   "outputs": [],
   "source": [
    "from mermaid import Mermaid\n",
    "def show_diagram():\n",
    "    m = Mermaid(\n",
    "        \"\"\"\n",
    "        %%{\n",
    "            init: {\n",
    "                'theme': 'base',\n",
    "                'themeVariables': {\n",
    "                'primaryColor': '#BB2528',\n",
    "                'primaryTextColor': '#fff',\n",
    "                'primaryBorderColor': '#7C0000',\n",
    "                'lineColor': '#F8B229',\n",
    "                'secondaryColor': '#006100',\n",
    "                'tertiaryColor': '#fff'\n",
    "                }\n",
    "            }\n",
    "        }%%\n",
    "        graph TB\n",
    "        Buglar-->Dog\n",
    "        Racoon-->Dog\n",
    "        Racoon-->Trash\n",
    "        Dog-->Police\"\"\"\n",
    "        )\n",
    "    return m"
   ]
  },
  {
   "cell_type": "markdown",
   "metadata": {},
   "source": [
    "## Probability Brief Summary\n",
    "* **Conditional probability**\n",
    "\n",
    "    $\\mathcal{P}(a|b) = \\frac{\\mathcal{P}(a\\cap b)}{\\mathcal{P}(b)}$\n",
    "    \n",
    "    $\\mathcal{P}(a\\cap b \\cap c) = \\mathcal{P}(a|b \\cap c)\\mathcal{P}(b|c)\\mathcal{P}(c)$\n",
    "\n",
    "    * **Chain Rule**\n",
    "\n",
    "        $\\mathcal{P}(x_1, x_2, ..., x_n) = \\prod_{i=n}^1 \\mathcal{P}(x_i | x_{i-1}...x_1)$\n",
    "    \n",
    "    * **Conditional independence**\n",
    "        * **$a$ indenpendent of $b$**\n",
    "        \n",
    "            $\\mathcal{P}(a|b \\cap z) = \\mathcal{P}(a|z)$\n",
    "\n",
    "            $\\mathcal{P}(a \\cap b| z) = \\mathcal{P}(a|z)\\mathcal{P}(b|z)$\n",
    "\n",
    "* **Belief nets intuition**:\n",
    "Given its parents every node is indepentent of every node that is not a descendent!\n",
    "\n",
    "    **Carefull with variable order, no parents should appear before its descendent**. (some thought, this makes me remember python MRO, method resolution order)"
   ]
  },
  {
   "cell_type": "code",
   "execution_count": 10,
   "metadata": {},
   "outputs": [
    {
     "data": {
      "text/html": [
       "\n",
       "        <div class=\"mermaid-344bc5c2-99c8-4b70-8bcd-6a1bb053f241\"></div>\n",
       "        <script type=\"module\">\n",
       "            import mermaid from 'https://cdn.jsdelivr.net/npm/mermaid@10.1.0/+esm'\n",
       "            const graphDefinition = '        %%{\\n            init: {\\n                \"theme\": \"base\",\\n                \"themeVariables\": {\\n                \"primaryColor\": \"#BB2528\",\\n                \"primaryTextColor\": \"#fff\",\\n                \"primaryBorderColor\": \"#7C0000\",\\n                \"lineColor\": \"#F8B229\",\\n                \"secondaryColor\": \"#006100\",\\n                \"tertiaryColor\": \"#fff\"\\n                }\\n            }\\n        }%%\\n        graph TB\\n        Buglar-->Dog\\n        Racoon-->Dog\\n        Racoon-->Trash\\n        Dog-->Police';\n",
       "            const element = document.querySelector('.mermaid-344bc5c2-99c8-4b70-8bcd-6a1bb053f241');\n",
       "            const { svg } = await mermaid.render('graphDiv-344bc5c2-99c8-4b70-8bcd-6a1bb053f241', graphDefinition);\n",
       "            element.innerHTML = svg;\n",
       "        </script>\n",
       "        "
      ],
      "text/plain": [
       "<mermaid.mermaid.Mermaid at 0x2b5a6cef610>"
      ]
     },
     "execution_count": 10,
     "metadata": {},
     "output_type": "execute_result"
    }
   ],
   "source": [
    "show_diagram()"
   ]
  },
  {
   "cell_type": "markdown",
   "metadata": {},
   "source": [
    "$\\mathcal{P}(Police, Dog, Buglar, Trash, Racoon) = \\mathcal{P}(P| D, \\sout{B}, \\sout{T}, \\sout{R}) \\cdot \\mathcal{P}(D|B,\\sout{T},R) \\cdot \\mathcal{P}(B|\\sout{T},\\sout{R}) \\cdot \\mathcal{P}(T|R) \\cdot \\mathcal{P}(R)$\n",
    "\n",
    "Independency allows us to strike out some of the `given that` relations.\n",
    "\n",
    "## Naive Bayesian Inference\n",
    "\n",
    "From $\\mathcal{P}(a|b) = \\frac{\\mathcal{P}(a\\cap b)}{\\mathcal{P}(b)}$,\n",
    "\n",
    "$$\\mathcal{P}(a|b) = \\frac{\\mathcal{P}(b\\cap a)\\mathcal{P}(a)}{\\mathcal{P}(b)}$$\n",
    "\n",
    "### Bayesian classification\n",
    "\n",
    "$$\\mathcal{P}(c_i|e) = \\frac{\\mathcal{P}(e\\cap c_i)\\mathcal{P}(c_i)}{\\mathcal{P}(e)}$$\n",
    "\n",
    "Where $c_i$ is a given classification class, $e$ a set of evidence (symptoms, etc).\n",
    "\n",
    "We are looking for the class $c_i$ that maximizes the numerator, assuming **indenpent evidence**:\n",
    "\n",
    "$$\\mathcal{P}(c_i|e) = \\frac{1}{\\mathcal{Cte}} \\cdot [\\mathcal{P}(e_1 | c_i) \\mathcal{P}(e_2 | c_i) ... \\mathcal{P}(e_n | c_i) ] \\cdot \\mathcal{P}(c_i)$$"
   ]
  },
  {
   "cell_type": "code",
   "execution_count": null,
   "metadata": {},
   "outputs": [],
   "source": []
  }
 ],
 "metadata": {
  "kernelspec": {
   "display_name": "Python 3",
   "language": "python",
   "name": "python3"
  },
  "language_info": {
   "codemirror_mode": {
    "name": "ipython",
    "version": 3
   },
   "file_extension": ".py",
   "mimetype": "text/x-python",
   "name": "python",
   "nbconvert_exporter": "python",
   "pygments_lexer": "ipython3",
   "version": "3.10.11"
  }
 },
 "nbformat": 4,
 "nbformat_minor": 2
}
