{
 "cells": [
  {
   "cell_type": "markdown",
   "metadata": {},
   "source": [
    "## Minimax\n",
    "Algorithm of game theory, minimize the possible loss for a worst case scenario."
   ]
  },
  {
   "cell_type": "code",
   "execution_count": 8,
   "metadata": {},
   "outputs": [],
   "source": [
    "import random\n",
    "import binarytree"
   ]
  },
  {
   "cell_type": "markdown",
   "metadata": {},
   "source": [
    "### Example Game\n",
    "Starting at the root of the tree both players take turns deciding left or right in order to get the highest possible score (max) or the smallest (min)."
   ]
  },
  {
   "cell_type": "code",
   "execution_count": 22,
   "metadata": {},
   "outputs": [
    {
     "name": "stdout",
     "output_type": "stream",
     "text": [
      "\n",
      "        _______0_______\n",
      "       /               \\\n",
      "    __0___           ___0__\n",
      "   /      \\         /      \\\n",
      "  0       _0       0        0\n",
      " / \\     /  \\     / \\      / \\\n",
      "1   1   -5   2   1   -2   4   4\n",
      "\n"
     ]
    }
   ],
   "source": [
    "game_tree = [0 for _ in range(7)] + [random.randint(-5, 5) for _ in range(8)]\n",
    "game_tree = binarytree.build(game_tree)\n",
    "print(game_tree)"
   ]
  },
  {
   "cell_type": "markdown",
   "metadata": {},
   "source": [
    "#### Tree traversal quick review"
   ]
  },
  {
   "cell_type": "code",
   "execution_count": 27,
   "metadata": {},
   "outputs": [
    {
     "name": "stdout",
     "output_type": "stream",
     "text": [
      "In-order traversal:  [1, 0, 1, 0, -5, 0, 2, 0, 1, 0, -2, 0, 4, 0, 4]\n",
      "Pre-order traversal:  [0, 0, 0, 1, 1, 0, -5, 2, 0, 0, 1, -2, 0, 4, 4]\n",
      "Post-order traversal:  [1, 1, 0, -5, 2, 0, 0, 1, -2, 0, 4, 4, 0, 0, 0]\n"
     ]
    }
   ],
   "source": [
    "def in_order(node, path):\n",
    "    if node is None:\n",
    "        return\n",
    "    in_order(node.left, path)\n",
    "    path.append(node.value)\n",
    "    in_order(node.right, path)\n",
    "\n",
    "def pre_order(node, path):\n",
    "    if node is None:\n",
    "        return\n",
    "    path.append(node.value)\n",
    "    pre_order(node.left, path)\n",
    "    pre_order(node.right, path)\n",
    "\n",
    "def post_order(node, path):\n",
    "    if node is None:\n",
    "        return\n",
    "    post_order(node.left, path)\n",
    "    post_order(node.right, path)\n",
    "    path.append(node.value)\n",
    "\n",
    "path = []\n",
    "in_order(game_tree, path)\n",
    "print(\"In-order traversal: \", path)\n",
    "\n",
    "path.clear()\n",
    "pre_order(game_tree, path)\n",
    "print(\"Pre-order traversal: \", path)\n",
    "\n",
    "path.clear()\n",
    "post_order(game_tree, path)\n",
    "print(\"Post-order traversal: \", path)"
   ]
  },
  {
   "cell_type": "code",
   "execution_count": 18,
   "metadata": {},
   "outputs": [
    {
     "name": "stdout",
     "output_type": "stream",
     "text": [
      "None\n"
     ]
    }
   ],
   "source": [
    "print(game_tree.right.right.right.right)\n",
    "\n",
    "# if max start playing first, which score will it get?\n",
    "\n",
    "def play(game_tree):\n",
    "    return score\n",
    "\n",
    "def _play(node):\n",
    "    if node is None:\n",
    "        return 0\n",
    "    \n",
    "    _play(node.left)\n",
    "    _play(node.right)\n",
    "    \n",
    "    node.left.value\n",
    "    node.right.value"
   ]
  }
 ],
 "metadata": {
  "kernelspec": {
   "display_name": "Python 3",
   "language": "python",
   "name": "python3"
  },
  "language_info": {
   "codemirror_mode": {
    "name": "ipython",
    "version": 3
   },
   "file_extension": ".py",
   "mimetype": "text/x-python",
   "name": "python",
   "nbconvert_exporter": "python",
   "pygments_lexer": "ipython3",
   "version": "3.10.11"
  }
 },
 "nbformat": 4,
 "nbformat_minor": 2
}
