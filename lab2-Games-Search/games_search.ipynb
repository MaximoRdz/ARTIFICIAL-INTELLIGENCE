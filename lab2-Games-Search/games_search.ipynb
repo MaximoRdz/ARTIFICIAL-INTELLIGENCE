{
 "cells": [
  {
   "cell_type": "markdown",
   "metadata": {},
   "source": [
    "## Minimax\n",
    "Algorithm of game theory, minimize the possible loss for a worst case scenario."
   ]
  },
  {
   "cell_type": "code",
   "execution_count": 1,
   "metadata": {},
   "outputs": [],
   "source": [
    "import random\n",
    "import binarytree"
   ]
  },
  {
   "cell_type": "markdown",
   "metadata": {},
   "source": [
    "### Example Game\n",
    "Starting at the root of the tree both players take turns deciding left or right in order to get the highest possible score (max) or the smallest (min)."
   ]
  },
  {
   "cell_type": "code",
   "execution_count": 21,
   "metadata": {},
   "outputs": [
    {
     "name": "stdout",
     "output_type": "stream",
     "text": [
      "\n",
      "         ________0________\n",
      "        /                 \\\n",
      "    ___0___             ___0___\n",
      "   /       \\           /       \\\n",
      "  0        _0        _0        _0\n",
      " / \\      /  \\      /  \\      /  \\\n",
      "5   -4   -5   -1   -2   -2   -3   -4\n",
      "\n"
     ]
    }
   ],
   "source": [
    "random.seed(42)\n",
    "game_tree = [0 for _ in range(7)] + [random.randint(-5, 5) for _ in range(8)]\n",
    "game_tree = binarytree.build(game_tree)\n",
    "print(game_tree)"
   ]
  },
  {
   "cell_type": "markdown",
   "metadata": {},
   "source": [
    "#### Tree traversal quick review"
   ]
  },
  {
   "cell_type": "code",
   "execution_count": 13,
   "metadata": {},
   "outputs": [
    {
     "name": "stdout",
     "output_type": "stream",
     "text": [
      "In-order traversal:  [5, 0, -4, 0, -5, 0, -1, 0, -2, 0, -2, 0, -3, 0, -4]\n",
      "Pre-order traversal:  [0, 0, 0, 5, -4, 0, -5, -1, 0, 0, -2, -2, 0, -3, -4]\n",
      "Post-order traversal:  [5, -4, 0, -5, -1, 0, 0, -2, -2, 0, -3, -4, 0, 0, 0]\n"
     ]
    }
   ],
   "source": [
    "def in_order(node, path):\n",
    "    if node is None:\n",
    "        return\n",
    "    in_order(node.left, path)\n",
    "    path.append(node.value)\n",
    "    in_order(node.right, path)\n",
    "\n",
    "def pre_order(node, path):\n",
    "    if node is None:\n",
    "        return\n",
    "    path.append(node.value)\n",
    "    pre_order(node.left, path)\n",
    "    pre_order(node.right, path)\n",
    "\n",
    "def post_order(node, path):\n",
    "    if node is None:\n",
    "        return\n",
    "    post_order(node.left, path)\n",
    "    post_order(node.right, path)\n",
    "    path.append(node.value)\n",
    "\n",
    "path = []\n",
    "in_order(game_tree, path)\n",
    "print(\"In-order traversal: \", path)\n",
    "\n",
    "path.clear()\n",
    "pre_order(game_tree, path)\n",
    "print(\"Pre-order traversal: \", path)\n",
    "\n",
    "path.clear()\n",
    "post_order(game_tree, path)\n",
    "print(\"Post-order traversal: \", path)"
   ]
  },
  {
   "cell_type": "code",
   "execution_count": 30,
   "metadata": {},
   "outputs": [
    {
     "name": "stdout",
     "output_type": "stream",
     "text": [
      "\n",
      "         ________0________\n",
      "        /                 \\\n",
      "    ___0___             ___0___\n",
      "   /       \\           /       \\\n",
      "  0        _0        _0        _0\n",
      " / \\      /  \\      /  \\      /  \\\n",
      "5   -4   -5   -1   -2   -2   -3   -4\n",
      "\n",
      "finale 0\n",
      "\n",
      "         ________0________\n",
      "        /                 \\\n",
      "    ___0___             ___0___\n",
      "   /       \\           /       \\\n",
      "  0        _0        _0        _0\n",
      " / \\      /  \\      /  \\      /  \\\n",
      "0   -4   -5   -1   -2   -2   -3   -4\n",
      "\n"
     ]
    }
   ],
   "source": [
    "random.seed(42)\n",
    "game_tree = [0 for _ in range(7)] + [random.randint(-5, 5) for _ in range(8)]\n",
    "game_tree = binarytree.build(game_tree)\n",
    "print(game_tree)\n",
    "\n",
    "def play(game_tree, first_player):\n",
    "    return _play(game_tree, first_player)\n",
    "\n",
    "def _play(node, current_player):\n",
    "    \"\"\"\n",
    "    - current_player: min / max\n",
    "    \"\"\"\n",
    "\n",
    "    if node is None:\n",
    "        return 0\n",
    "        \n",
    "    next_player = \"min\" if current_player != \"min\" else \"max\"\n",
    "\n",
    "    if current_player == \"max\":\n",
    "        node.value += max(node.value, _play(node.left, next_player), _play(node.right, next_player))\n",
    "\n",
    "    else:\n",
    "        node.value = min(node.value, _play(node.left, next_player), _play(node.right, next_player))\n",
    "    \n",
    "    return node.value\n",
    "\n",
    "print(\"finale\", play(game_tree, \"max\"))\n",
    "print(game_tree)"
   ]
  }
 ],
 "metadata": {
  "kernelspec": {
   "display_name": "Python 3",
   "language": "python",
   "name": "python3"
  },
  "language_info": {
   "codemirror_mode": {
    "name": "ipython",
    "version": 3
   },
   "file_extension": ".py",
   "mimetype": "text/x-python",
   "name": "python",
   "nbconvert_exporter": "python",
   "pygments_lexer": "ipython3",
   "version": "3.10.11"
  }
 },
 "nbformat": 4,
 "nbformat_minor": 2
}
