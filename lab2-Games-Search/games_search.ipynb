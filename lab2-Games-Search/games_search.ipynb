{
 "cells": [
  {
   "cell_type": "markdown",
   "metadata": {},
   "source": [
    "## Minimax\n",
    "Algorithm of game theory, minimize the possible loss for a worst case scenario."
   ]
  },
  {
   "cell_type": "code",
   "execution_count": 1,
   "metadata": {},
   "outputs": [],
   "source": [
    "import random\n",
    "import binarytree"
   ]
  },
  {
   "cell_type": "markdown",
   "metadata": {},
   "source": [
    "### Example Game\n",
    "Starting at the root of the tree both players take turns deciding left or right in order to get the highest possible score (max) or the smallest (min)."
   ]
  },
  {
   "cell_type": "code",
   "execution_count": 2,
   "metadata": {},
   "outputs": [
    {
     "name": "stdout",
     "output_type": "stream",
     "text": [
      "\n",
      "         ________0________\n",
      "        /                 \\\n",
      "    ___0___             ___0___\n",
      "   /       \\           /       \\\n",
      "  0        _0        _0        _0\n",
      " / \\      /  \\      /  \\      /  \\\n",
      "5   -4   -5   -1   -2   -2   -3   -4\n",
      "\n"
     ]
    }
   ],
   "source": [
    "random.seed(42)\n",
    "game_tree = [0 for _ in range(7)] + [random.randint(-5, 5) for _ in range(8)]\n",
    "game_tree = binarytree.build(game_tree)\n",
    "print(game_tree)"
   ]
  },
  {
   "cell_type": "markdown",
   "metadata": {},
   "source": [
    "#### Tree traversal quick review"
   ]
  },
  {
   "cell_type": "code",
   "execution_count": 4,
   "metadata": {},
   "outputs": [
    {
     "name": "stdout",
     "output_type": "stream",
     "text": [
      "In-order traversal:  [-4, -3, -3, -3, 1, 1, 0, -2, -2, -2, -2, -2, 2, 2, 0]\n",
      "Pre-order traversal:  [-2, -3, -3, -4, -3, 1, 1, 0, -2, -2, -2, -2, 2, 2, 0]\n",
      "Post-order traversal:  [-4, -3, -3, 1, 0, 1, -3, -2, -2, -2, 2, 0, 2, -2, -2]\n"
     ]
    }
   ],
   "source": [
    "def in_order(node, path):\n",
    "    if node is None:\n",
    "        return\n",
    "    in_order(node.left, path)\n",
    "    path.append(node.value)\n",
    "    in_order(node.right, path)\n",
    "\n",
    "def pre_order(node, path):\n",
    "    if node is None:\n",
    "        return\n",
    "    path.append(node.value)\n",
    "    pre_order(node.left, path)\n",
    "    pre_order(node.right, path)\n",
    "\n",
    "def post_order(node, path):\n",
    "    if node is None:\n",
    "        return\n",
    "    post_order(node.left, path)\n",
    "    post_order(node.right, path)\n",
    "    path.append(node.value)\n",
    "\n",
    "path = []\n",
    "in_order(game_tree, path)\n",
    "print(\"In-order traversal: \", path)\n",
    "\n",
    "path.clear()\n",
    "pre_order(game_tree, path)\n",
    "print(\"Pre-order traversal: \", path)\n",
    "\n",
    "path.clear()\n",
    "post_order(game_tree, path)\n",
    "print(\"Post-order traversal: \", path)"
   ]
  },
  {
   "cell_type": "code",
   "execution_count": 3,
   "metadata": {},
   "outputs": [
    {
     "name": "stdout",
     "output_type": "stream",
     "text": [
      "\n",
      "          ______0________\n",
      "         /               \\\n",
      "     ___0__            ___0__\n",
      "    /      \\          /      \\\n",
      "  _0        0       _0        0\n",
      " /  \\      / \\     /  \\      / \\\n",
      "-4   -3   1   0   -2   -2   2   0\n",
      "\n",
      "\n",
      "           _______-2_________\n",
      "          /                  \\\n",
      "     ____-3__             ____-2__\n",
      "    /        \\           /        \\\n",
      "  _-3         1        _-2         2\n",
      " /   \\       / \\      /   \\       / \\\n",
      "-4    -3    1   0    -2    -2    2   0\n",
      "\n"
     ]
    }
   ],
   "source": [
    "random.seed(137)\n",
    "game_tree = [0 for _ in range(7)] + [random.randint(-5, 5) for _ in range(8)]\n",
    "game_tree = binarytree.build(game_tree)\n",
    "print(game_tree)\n",
    "\n",
    "def minimax(player, node):\n",
    "\n",
    "    if node.left is None and node.right is None:\n",
    "        return node.value\n",
    "    \n",
    "    if player == \"min\":\n",
    "        return min(node.left.value, node.right.value)\n",
    "    \n",
    "    return max(node.left.value, node.right.value)\n",
    "\n",
    "def play(node, current_player):\n",
    "    \"\"\"\n",
    "    Simple game min and max take turns to decide left or right.\n",
    "    Implemented following a post-order (L, R, V) tree traversal\n",
    "    the first player will check the coherent choices that will be \n",
    "    made from bottom up and decide upon that which left or right \n",
    "    leads to the BEST possible case considering the best moves its \n",
    "    rival could made.\n",
    "    - current_player: min / max\n",
    "    \"\"\"\n",
    "\n",
    "    if node is None:\n",
    "        return\n",
    "    \n",
    "    next_player = \"min\" if current_player == \"max\" else \"max\"\n",
    "    play(node.left, next_player)\n",
    "    play(node.right, next_player)\n",
    "    node.value = minimax(current_player, node)\n",
    "     \n",
    "\n",
    "\n",
    "play(game_tree, \"max\")\n",
    "print(game_tree)"
   ]
  },
  {
   "cell_type": "code",
   "execution_count": 5,
   "metadata": {},
   "outputs": [
    {
     "name": "stdout",
     "output_type": "stream",
     "text": [
      "\n",
      "                 ______________?_______________\n",
      "                /                              \\\n",
      "         ______?______                    ______?______\n",
      "        /             \\                  /             \\\n",
      "     __?__           __?__            __?__           __?__\n",
      "    /     \\         /     \\          /     \\         /     \\\n",
      "  _?       ?       ?       ?       _?       ?       ?       ?\n",
      " /  \\     / \\     / \\     / \\     /  \\     / \\     / \\     / \\\n",
      "10   1   0   4   3   3   2   1   10   8   1   9   6   0   0   1\n",
      "\n"
     ]
    }
   ],
   "source": [
    "random.seed(42)\n",
    "levels = 6\n",
    "game_tree = [\"?\" for _ in range(2*levels + 3)] + [random.randint(0, 10) for _ in range(2*(levels + 2))]\n",
    "game_tree = binarytree.build(game_tree)\n",
    "print(game_tree)\n",
    "play(game_tree, \"max\")\n",
    "print(game_tree)"
   ]
  },
  {
   "cell_type": "markdown",
   "metadata": {},
   "source": [
    "### Alpha Beta pruning ($\\alpha\\beta$)\n",
    "Algorithm to decrease the number of nodes evalutated by minimax algorithm. Why would we further evaluate a node with a move proved worst than a previously examined node.\n",
    "\n",
    "> The algorithm maintains two values, alpha and beta, which respectively represent the minimum score that the maximizing player is assured of and the maximum score that the minimizing player is assured of.\n",
    "\n",
    "* **Review**: Computing tree height"
   ]
  },
  {
   "cell_type": "code",
   "execution_count": 8,
   "metadata": {},
   "outputs": [
    {
     "data": {
      "text/plain": [
       "5"
      ]
     },
     "execution_count": 8,
     "metadata": {},
     "output_type": "execute_result"
    }
   ],
   "source": [
    "def tree_height(node):\n",
    "    if node is None:\n",
    "        return 0\n",
    "    return 1 + max(tree_height(node.left), tree_height(node.right))\n",
    "\n",
    "tree_height(game_tree)"
   ]
  },
  {
   "cell_type": "code",
   "execution_count": 12,
   "metadata": {},
   "outputs": [
    {
     "name": "stdout",
     "output_type": "stream",
     "text": [
      "\n",
      "          ______0________\n",
      "         /               \\\n",
      "     ___0__            ___0__\n",
      "    /      \\          /      \\\n",
      "  _0        0       _0        0\n",
      " /  \\      / \\     /  \\      / \\\n",
      "-4   -3   1   0   -2   -2   2   0\n",
      "\n",
      "\n",
      "           _______-2_________\n",
      "          /                  \\\n",
      "     ____-3__             ____-2__\n",
      "    /        \\           /        \\\n",
      "  _-3         1        _-2         2\n",
      " /   \\       / \\      /   \\       / \\\n",
      "-4    -3    1   0    -2    -2    2   0\n",
      "\n"
     ]
    }
   ],
   "source": [
    "random.seed(137)\n",
    "game_tree = [0 for _ in range(7)] + [random.randint(-5, 5) for _ in range(8)]\n",
    "game_tree = binarytree.build(game_tree)\n",
    "print(game_tree)\n",
    "\n",
    "def minimax_alphabeta(node, current_player, alpha, beta):\n",
    "    \"\"\"\n",
    "    alpha: max player -> maximize it or loose it\n",
    "    beta: min player -> minimize it or loose it\n",
    "    \"\"\"\n",
    "\n",
    "    if node.left is None and node.right is None:\n",
    "        return node.value\n",
    "    \n",
    "    if current_player == \"max\":\n",
    "        value = - float(\"inf\")\n",
    "        value = max(value, minimax_alphabeta(node.left, \"min\", alpha, beta))\n",
    "        alpha = max(alpha, value)\n",
    "\n",
    "        if beta > value:\n",
    "            value = max(value, minimax_alphabeta(node.right, \"min\", alpha, beta))\n",
    "        node.value = value\n",
    "\n",
    "    else:\n",
    "        value = float(\"inf\")\n",
    "        value = min(value, minimax_alphabeta(node.left, \"max\", alpha, beta))\n",
    "        beta = min(beta, value)\n",
    "\n",
    "        if alpha < value:\n",
    "            value = min(value, minimax_alphabeta(node.right, \"max\", alpha, beta))\n",
    "        node.value = value\n",
    "\n",
    "    return value\n",
    "\n",
    "minimax_alphabeta(game_tree, \"max\", - float(\"inf\"), float(\"inf\"))\n",
    "print(game_tree)"
   ]
  },
  {
   "cell_type": "code",
   "execution_count": 13,
   "metadata": {},
   "outputs": [
    {
     "name": "stdout",
     "output_type": "stream",
     "text": [
      "\n",
      "                 ______________?_______________\n",
      "                /                              \\\n",
      "         ______?______                    ______?______\n",
      "        /             \\                  /             \\\n",
      "     __?__           __?__            __?__           __?__\n",
      "    /     \\         /     \\          /     \\         /     \\\n",
      "  _?       ?       ?       ?       _?       ?       ?       ?\n",
      " /  \\     / \\     / \\     / \\     /  \\     / \\     / \\     / \\\n",
      "10   1   0   4   3   3   2   1   10   8   1   9   6   0   0   1\n",
      "\n",
      "\n",
      "                 ______________1_______________\n",
      "                /                              \\\n",
      "         ______1______                    ______0______\n",
      "        /             \\                  /             \\\n",
      "     __1__           __3__            __8__           __0__\n",
      "    /     \\         /     \\          /     \\         /     \\\n",
      "  _1       0       3       ?       _8       1       0       0\n",
      " /  \\     / \\     / \\     / \\     /  \\     / \\     / \\     / \\\n",
      "10   1   0   4   3   3   2   1   10   8   1   9   6   0   0   1\n",
      "\n"
     ]
    }
   ],
   "source": [
    "random.seed(42)\n",
    "levels = 6\n",
    "game_tree = [\"?\" for _ in range(2*levels + 3)] + [random.randint(0, 10) for _ in range(2*(levels + 2))]\n",
    "game_tree = binarytree.build(game_tree)\n",
    "print(game_tree)\n",
    "minimax_alphabeta(game_tree, \"max\", - float(\"inf\"), float(\"inf\"))\n",
    "print(game_tree)"
   ]
  }
 ],
 "metadata": {
  "kernelspec": {
   "display_name": "Python 3",
   "language": "python",
   "name": "python3"
  },
  "language_info": {
   "codemirror_mode": {
    "name": "ipython",
    "version": 3
   },
   "file_extension": ".py",
   "mimetype": "text/x-python",
   "name": "python",
   "nbconvert_exporter": "python",
   "pygments_lexer": "ipython3",
   "version": "3.10.11"
  }
 },
 "nbformat": 4,
 "nbformat_minor": 2
}
