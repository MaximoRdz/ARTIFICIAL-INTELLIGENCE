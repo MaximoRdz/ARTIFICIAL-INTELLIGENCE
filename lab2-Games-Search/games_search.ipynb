{
 "cells": [
  {
   "cell_type": "markdown",
   "metadata": {},
   "source": [
    "## Minimax\n",
    "Algorithm of game theory, minimize the possible loss for a worst case scenario."
   ]
  },
  {
   "cell_type": "code",
   "execution_count": 1,
   "metadata": {},
   "outputs": [],
   "source": [
    "import random\n",
    "import binarytree"
   ]
  },
  {
   "cell_type": "markdown",
   "metadata": {},
   "source": [
    "### Example Game\n",
    "Starting at the root of the tree both players take turns deciding left or right in order to get the highest possible score (max) or the smallest (min)."
   ]
  },
  {
   "cell_type": "code",
   "execution_count": 21,
   "metadata": {},
   "outputs": [
    {
     "name": "stdout",
     "output_type": "stream",
     "text": [
      "\n",
      "         ________0________\n",
      "        /                 \\\n",
      "    ___0___             ___0___\n",
      "   /       \\           /       \\\n",
      "  0        _0        _0        _0\n",
      " / \\      /  \\      /  \\      /  \\\n",
      "5   -4   -5   -1   -2   -2   -3   -4\n",
      "\n"
     ]
    }
   ],
   "source": [
    "random.seed(42)\n",
    "game_tree = [0 for _ in range(7)] + [random.randint(-5, 5) for _ in range(8)]\n",
    "game_tree = binarytree.build(game_tree)\n",
    "print(game_tree)"
   ]
  },
  {
   "cell_type": "markdown",
   "metadata": {},
   "source": [
    "#### Tree traversal quick review"
   ]
  },
  {
   "cell_type": "code",
   "execution_count": 13,
   "metadata": {},
   "outputs": [
    {
     "name": "stdout",
     "output_type": "stream",
     "text": [
      "In-order traversal:  [5, 0, -4, 0, -5, 0, -1, 0, -2, 0, -2, 0, -3, 0, -4]\n",
      "Pre-order traversal:  [0, 0, 0, 5, -4, 0, -5, -1, 0, 0, -2, -2, 0, -3, -4]\n",
      "Post-order traversal:  [5, -4, 0, -5, -1, 0, 0, -2, -2, 0, -3, -4, 0, 0, 0]\n"
     ]
    }
   ],
   "source": [
    "def in_order(node, path):\n",
    "    if node is None:\n",
    "        return\n",
    "    in_order(node.left, path)\n",
    "    path.append(node.value)\n",
    "    in_order(node.right, path)\n",
    "\n",
    "def pre_order(node, path):\n",
    "    if node is None:\n",
    "        return\n",
    "    path.append(node.value)\n",
    "    pre_order(node.left, path)\n",
    "    pre_order(node.right, path)\n",
    "\n",
    "def post_order(node, path):\n",
    "    if node is None:\n",
    "        return\n",
    "    post_order(node.left, path)\n",
    "    post_order(node.right, path)\n",
    "    path.append(node.value)\n",
    "\n",
    "path = []\n",
    "in_order(game_tree, path)\n",
    "print(\"In-order traversal: \", path)\n",
    "\n",
    "path.clear()\n",
    "pre_order(game_tree, path)\n",
    "print(\"Pre-order traversal: \", path)\n",
    "\n",
    "path.clear()\n",
    "post_order(game_tree, path)\n",
    "print(\"Post-order traversal: \", path)"
   ]
  },
  {
   "cell_type": "code",
   "execution_count": 26,
   "metadata": {},
   "outputs": [
    {
     "name": "stdout",
     "output_type": "stream",
     "text": [
      "\n",
      "          ______0________\n",
      "         /               \\\n",
      "     ___0__            ___0__\n",
      "    /      \\          /      \\\n",
      "  _0        0       _0        0\n",
      " /  \\      / \\     /  \\      / \\\n",
      "-4   -3   1   0   -2   -2   2   0\n",
      "\n",
      "\n",
      "           _______-2_________\n",
      "          /                  \\\n",
      "     ____-3__             ____-2__\n",
      "    /        \\           /        \\\n",
      "  _-3         1        _-2         2\n",
      " /   \\       / \\      /   \\       / \\\n",
      "-4    -3    1   0    -2    -2    2   0\n",
      "\n"
     ]
    }
   ],
   "source": [
    "random.seed(137)\n",
    "game_tree = [0 for _ in range(7)] + [random.randint(-5, 5) for _ in range(8)]\n",
    "game_tree = binarytree.build(game_tree)\n",
    "print(game_tree)\n",
    "\n",
    "def minimax(player, node):\n",
    "\n",
    "    if node.left is None and node.right is None:\n",
    "        return node.value\n",
    "    \n",
    "    if player == \"min\":\n",
    "        return min(node.left.value, node.right.value)\n",
    "    \n",
    "    return max(node.left.value, node.right.value)\n",
    "\n",
    "def play(node, current_player):\n",
    "    \"\"\"\n",
    "    Simple game min and max take turns to decide left or right.\n",
    "    Implemented following a post-order (L, R, V) tree traversal\n",
    "    the first player will check the coherent choices that will be \n",
    "    made from bottom up and decide upon that which left or right \n",
    "    leads to the BEST possible case considering the best moves its \n",
    "    rival could made.\n",
    "    - current_player: min / max\n",
    "    \"\"\"\n",
    "\n",
    "    if node is None:\n",
    "        return\n",
    "    \n",
    "    next_player = \"min\" if current_player == \"max\" else \"max\"\n",
    "    play(node.left, next_player)\n",
    "    play(node.right, next_player)\n",
    "    node.value = minimax(current_player, node)\n",
    "     \n",
    "\n",
    "\n",
    "play(game_tree, \"max\")\n",
    "print(game_tree)"
   ]
  }
 ],
 "metadata": {
  "kernelspec": {
   "display_name": "Python 3",
   "language": "python",
   "name": "python3"
  },
  "language_info": {
   "codemirror_mode": {
    "name": "ipython",
    "version": 3
   },
   "file_extension": ".py",
   "mimetype": "text/x-python",
   "name": "python",
   "nbconvert_exporter": "python",
   "pygments_lexer": "ipython3",
   "version": "3.10.11"
  }
 },
 "nbformat": 4,
 "nbformat_minor": 2
}
